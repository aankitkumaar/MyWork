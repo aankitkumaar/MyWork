{
  "nbformat": 4,
  "nbformat_minor": 0,
  "metadata": {
    "colab": {
      "name": "BMI Calulator.ipynb",
      "provenance": [],
      "authorship_tag": "ABX9TyPDei9+538UOt++4d13HLtb",
      "include_colab_link": true
    },
    "kernelspec": {
      "name": "python3",
      "display_name": "Python 3"
    },
    "language_info": {
      "name": "python"
    }
  },
  "cells": [
    {
      "cell_type": "markdown",
      "metadata": {
        "id": "view-in-github",
        "colab_type": "text"
      },
      "source": [
        "<a href=\"https://colab.research.google.com/github/aankitkumaar/MyWork/blob/main/BMI_Calulator.ipynb\" target=\"_parent\"><img src=\"https://colab.research.google.com/assets/colab-badge.svg\" alt=\"Open In Colab\"/></a>"
      ]
    },
    {
      "cell_type": "code",
      "execution_count": 12,
      "metadata": {
        "colab": {
          "base_uri": "https://localhost:8080/"
        },
        "id": "Tqm0hoaiS86f",
        "outputId": "9bc4dd5f-40f0-47c9-b3a2-2f7b3e694fbe"
      },
      "outputs": [
        {
          "output_type": "stream",
          "name": "stdout",
          "text": [
            "enter the weight in kg : -63\n",
            "enter the length in meter: -1.64592\n",
            "BMI =  23.255362011409893\n"
          ]
        }
      ],
      "source": [
        "weight =int(input('enter the weight in kg : -'))\n",
        "length = float(input('enter the length in meter: -'))\n",
        "BMI= weight/(length**2)\n",
        "#print('BMI = ' + BMI) .....TypeError: can only concatenate str (not \"float\") to str\n",
        "print('BMI = ',BMI)"
      ]
    }
  ]
}