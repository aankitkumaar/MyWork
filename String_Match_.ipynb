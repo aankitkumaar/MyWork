{
  "nbformat": 4,
  "nbformat_minor": 0,
  "metadata": {
    "colab": {
      "name": "String Match .ipynb",
      "provenance": [],
      "authorship_tag": "ABX9TyPLeUOaCrRoi0idHUtg7xDe",
      "include_colab_link": true
    },
    "kernelspec": {
      "name": "python3",
      "display_name": "Python 3"
    },
    "language_info": {
      "name": "python"
    }
  },
  "cells": [
    {
      "cell_type": "markdown",
      "metadata": {
        "id": "view-in-github",
        "colab_type": "text"
      },
      "source": [
        "<a href=\"https://colab.research.google.com/github/aankitkumaar/MyWork/blob/main/String_Match_.ipynb\" target=\"_parent\"><img src=\"https://colab.research.google.com/assets/colab-badge.svg\" alt=\"Open In Colab\"/></a>"
      ]
    },
    {
      "cell_type": "code",
      "execution_count": 8,
      "metadata": {
        "colab": {
          "base_uri": "https://localhost:8080/"
        },
        "id": "4BvWCILBH4jb",
        "outputId": "15471256-b706-406f-a0f9-c95a7cf10935"
      },
      "outputs": [
        {
          "output_type": "stream",
          "name": "stdout",
          "text": [
            "<re.Match object; span=(0, 9), match='hello man'>\n"
          ]
        }
      ],
      "source": [
        "import re\n",
        "demo='hello man'\n",
        "''\n",
        "#(*) repersent 0 or more\n",
        "#(.) repersent  any chrachter\n",
        "''\n",
        "print(re.match(r'hello man',demo))"
      ]
    },
    {
      "cell_type": "code",
      "source": [
        "import re\n",
        "demo='hello man'\n",
        "''\n",
        "#(*) repersent 0 or more\n",
        "#(.) repersent  any chrachter\n",
        "''\n",
        "print(re.match(r'.*',demo))"
      ],
      "metadata": {
        "colab": {
          "base_uri": "https://localhost:8080/"
        },
        "id": "tcFD1zoLJUGs",
        "outputId": "4de3bf65-e5c2-4216-a7ac-254c368ce43f"
      },
      "execution_count": 9,
      "outputs": [
        {
          "output_type": "stream",
          "name": "stdout",
          "text": [
            "<re.Match object; span=(0, 9), match='hello man'>\n"
          ]
        }
      ]
    }
  ]
}