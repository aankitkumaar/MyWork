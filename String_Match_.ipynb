{
  "nbformat": 4,
  "nbformat_minor": 0,
  "metadata": {
    "colab": {
      "name": "String Match .ipynb",
      "provenance": [],
      "authorship_tag": "ABX9TyNDaw106BHjJDHIhv6XwqCY",
      "include_colab_link": true
    },
    "kernelspec": {
      "name": "python3",
      "display_name": "Python 3"
    },
    "language_info": {
      "name": "python"
    }
  },
  "cells": [
    {
      "cell_type": "markdown",
      "metadata": {
        "id": "view-in-github",
        "colab_type": "text"
      },
      "source": [
        "<a href=\"https://colab.research.google.com/github/aankitkumaar/MyWork/blob/main/String_Match_.ipynb\" target=\"_parent\"><img src=\"https://colab.research.google.com/assets/colab-badge.svg\" alt=\"Open In Colab\"/></a>"
      ]
    },
    {
      "cell_type": "code",
      "execution_count": 8,
      "metadata": {
        "colab": {
          "base_uri": "https://localhost:8080/"
        },
        "id": "4BvWCILBH4jb",
        "outputId": "15471256-b706-406f-a0f9-c95a7cf10935"
      },
      "outputs": [
        {
          "output_type": "stream",
          "name": "stdout",
          "text": [
            "<re.Match object; span=(0, 9), match='hello man'>\n"
          ]
        }
      ],
      "source": [
        "import re\n",
        "demo='hello man'\n",
        "''\n",
        "#(*) repersent 0 or more\n",
        "#(.) repersent  any chrachter\n",
        "''\n",
        "print(re.match(r'hello man',demo))"
      ]
    },
    {
      "cell_type": "code",
      "source": [
        "import re\n",
        "demo='hello man'\n",
        "''\n",
        "#(*) represent 0 or more\n",
        "#(.) represent  any character\n",
        "''\n",
        "print(re.match(r'.*',demo))"
      ],
      "metadata": {
        "colab": {
          "base_uri": "https://localhost:8080/"
        },
        "id": "tcFD1zoLJUGs",
        "outputId": "755ec5a4-b4d5-4b88-b4a5-10dda7cc522a"
      },
      "execution_count": 12,
      "outputs": [
        {
          "output_type": "stream",
          "name": "stdout",
          "text": [
            "<re.Match object; span=(0, 9), match='hello man'>\n"
          ]
        }
      ]
    },
    {
      "cell_type": "code",
      "source": [
        "import re\n",
        "demo = '1995 was good year 1665'\n",
        "demo1='are 109'\n",
        "\n",
        "print(re.match(r\"[a-zA-Z1-9]+\",demo))\n",
        "print(re.match(r\"[a-zA-Z]+\",demo1))\n",
        "print(re.match(r\"[a-zA-Z]+\",demo))\n",
        "print(re.match(r\"[1-9]+\",demo1))\n",
        "print(re.match(r\"[a-zA-Z1-9]+\",demo1))"
      ],
      "metadata": {
        "colab": {
          "base_uri": "https://localhost:8080/"
        },
        "id": "o_9KipNDMXoh",
        "outputId": "cf6bef56-251e-43d3-de49-bc52d37cc0d6"
      },
      "execution_count": 26,
      "outputs": [
        {
          "output_type": "stream",
          "name": "stdout",
          "text": [
            "<re.Match object; span=(0, 4), match='1995'>\n",
            "<re.Match object; span=(0, 3), match='are'>\n",
            "None\n",
            "None\n",
            "<re.Match object; span=(0, 3), match='are'>\n"
          ]
        }
      ]
    },
    {
      "cell_type": "code",
      "source": [
        "import re\n",
        "demo3='ab'\n",
        "demo4=''\n",
        "#a? means a0 0r a1\n",
        "#ab? means a or ab \n",
        "#abb? means ab or abb\n",
        "print(re.match(r'a?',demo3))\n",
        "print(re.match(r'ab?',demo3))\n",
        "print(re.match(r'abb?',demo3))\n",
        "print(re.match(r'b?',demo3))\n",
        "print(re.match(r'aaa?',demo3))\n",
        "print(re.match(r'aab?',demo3))"
      ],
      "metadata": {
        "colab": {
          "base_uri": "https://localhost:8080/"
        },
        "id": "T3feaRMBWJ7p",
        "outputId": "367aaf10-9a78-49eb-bf1c-5a4b0fdeec12"
      },
      "execution_count": 35,
      "outputs": [
        {
          "output_type": "stream",
          "name": "stdout",
          "text": [
            "<re.Match object; span=(0, 1), match='a'>\n",
            "<re.Match object; span=(0, 2), match='ab'>\n",
            "<re.Match object; span=(0, 2), match='ab'>\n",
            "<re.Match object; span=(0, 0), match=''>\n",
            "None\n",
            "None\n"
          ]
        }
      ]
    },
    {
      "cell_type": "code",
      "source": [
        "import re\n",
        "demo='hello man'\n",
        "''\n",
        "#(*) represent 0 or more\n",
        "#(.) represent  any character\n",
        "#(+) repessent 1 or more character\n",
        "''\n",
        "print(re.match(r'.+',demo))"
      ],
      "metadata": {
        "colab": {
          "base_uri": "https://localhost:8080/"
        },
        "id": "2tZZDPgNJwCt",
        "outputId": "92db387c-c5bb-4d5f-f4c1-75b25361c511"
      },
      "execution_count": 11,
      "outputs": [
        {
          "output_type": "stream",
          "name": "stdout",
          "text": [
            "<re.Match object; span=(0, 9), match='hello man'>\n"
          ]
        }
      ]
    },
    {
      "cell_type": "code",
      "source": [
        "import re\n",
        "demo=''\n",
        "''\n",
        "#(*) represent 0 or more\n",
        "#(.) represent  any character\n",
        "#(+) repessent 1 or more character\n",
        "''\n",
        "print(re.match(r'.+',demo))"
      ],
      "metadata": {
        "colab": {
          "base_uri": "https://localhost:8080/"
        },
        "id": "UXETE3JxKRx5",
        "outputId": "c87df7f6-7c55-467f-93a0-319480979615"
      },
      "execution_count": 10,
      "outputs": [
        {
          "output_type": "stream",
          "name": "stdout",
          "text": [
            "None\n"
          ]
        }
      ]
    }
  ]
}