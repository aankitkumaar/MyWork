{
  "nbformat": 4,
  "nbformat_minor": 0,
  "metadata": {
    "colab": {
      "name": "Company Email Generator.ipynb",
      "provenance": [],
      "toc_visible": true,
      "authorship_tag": "ABX9TyMfjLjlBbg0JyJVWorAYP2p",
      "include_colab_link": true
    },
    "kernelspec": {
      "name": "python3",
      "display_name": "Python 3"
    },
    "language_info": {
      "name": "python"
    }
  },
  "cells": [
    {
      "cell_type": "markdown",
      "metadata": {
        "id": "view-in-github",
        "colab_type": "text"
      },
      "source": [
        "<a href=\"https://colab.research.google.com/github/aankitkumaar/MyWork/blob/main/Company_Email_Generator.ipynb\" target=\"_parent\"><img src=\"https://colab.research.google.com/assets/colab-badge.svg\" alt=\"Open In Colab\"/></a>"
      ]
    },
    {
      "cell_type": "code",
      "execution_count": 2,
      "metadata": {
        "colab": {
          "base_uri": "https://localhost:8080/"
        },
        "id": "vYTwYoszPuy-",
        "outputId": "302eff30-360f-4c99-faf9-19335387a139"
      },
      "outputs": [
        {
          "output_type": "stream",
          "name": "stdout",
          "text": [
            "enter the name Ankit\n",
            "enter the compney name google\n",
            "ankit@google.com\n"
          ]
        }
      ],
      "source": [
        "name = input('enter the name ')\n",
        "name_edit = name.replace('','')\n",
        "cname = input('enter the compney name ')\n",
        "cname_edit = cname.replace('','')\n",
        "email = name_edit + '@' + cname_edit + '.com'\n",
        "lemail = email.lower()\n",
        "print(lemail)"
      ]
    }
  ]
}