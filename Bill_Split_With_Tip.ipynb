{
  "nbformat": 4,
  "nbformat_minor": 0,
  "metadata": {
    "colab": {
      "name": "Bill Split With Tip.ipynb",
      "provenance": [],
      "authorship_tag": "ABX9TyOwOgAPZAKYeHN8PyhJ6zr+",
      "include_colab_link": true
    },
    "kernelspec": {
      "name": "python3",
      "display_name": "Python 3"
    },
    "language_info": {
      "name": "python"
    }
  },
  "cells": [
    {
      "cell_type": "markdown",
      "metadata": {
        "id": "view-in-github",
        "colab_type": "text"
      },
      "source": [
        "<a href=\"https://colab.research.google.com/github/aankitkumaar/MyWork/blob/main/Bill_Split_With_Tip.ipynb\" target=\"_parent\"><img src=\"https://colab.research.google.com/assets/colab-badge.svg\" alt=\"Open In Colab\"/></a>"
      ]
    },
    {
      "cell_type": "code",
      "execution_count": 8,
      "metadata": {
        "colab": {
          "base_uri": "https://localhost:8080/"
        },
        "id": "NjqBKP_Cj82J",
        "outputId": "5c3f4187-83bb-4bef-c045-aea5cf7ba0e8"
      },
      "outputs": [
        {
          "output_type": "stream",
          "name": "stdout",
          "text": [
            "what was the totle bill Rs. 5000\n",
            "How much tip whole like to give 10,20 or 30 = 20\n",
            "how many people to split the bill 6\n",
            "1000.0\n"
          ]
        }
      ],
      "source": [
        "bill = float(input('what was the totle bill Rs. '))\n",
        "tip = int(input('How much tip whole like to give 10,20 or 30 = '))\n",
        "people = int(input('how many people to split the bill '))\n",
        "\n",
        "final_bill = bill+bill*(tip/100)\n",
        "split =round(final_bill/people,2)\n",
        "\n",
        "print(split)"
      ]
    }
  ]
}